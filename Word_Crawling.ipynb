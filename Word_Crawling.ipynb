{
  "nbformat": 4,
  "nbformat_minor": 0,
  "metadata": {
    "colab": {
      "provenance": [],
      "mount_file_id": "1szMfh_q_QxIq61bebKWhoLlpPG4DQJqL",
      "authorship_tag": "ABX9TyPc3J238uQ4VjAh5QPufaG6",
      "include_colab_link": true
    },
    "kernelspec": {
      "name": "python3",
      "display_name": "Python 3"
    },
    "language_info": {
      "name": "python"
    }
  },
  "cells": [
    {
      "cell_type": "markdown",
      "metadata": {
        "id": "view-in-github",
        "colab_type": "text"
      },
      "source": [
        "<a href=\"https://colab.research.google.com/github/joony0512/HTML_CSS/blob/main/Word_Crawling.ipynb\" target=\"_parent\"><img src=\"https://colab.research.google.com/assets/colab-badge.svg\" alt=\"Open In Colab\"/></a>"
      ]
    },
    {
      "cell_type": "code",
      "execution_count": 2,
      "metadata": {
        "colab": {
          "base_uri": "https://localhost:8080/"
        },
        "id": "6YnH8o8CwhIc",
        "outputId": "8e35caaf-2a4d-4bf7-b881-2b6a6852f085"
      },
      "outputs": [
        {
          "output_type": "stream",
          "name": "stdout",
          "text": [
            "소재지: 경기화성시\n",
            "대표자 (생년): 1973\n",
            "사업화 단계: B\n",
            "후속투자: 120.2\n",
            "고용창출 (선정당시): 5 명\n",
            "고용창출 (최신): 20 년 42 명\n",
            "논문 및 특허: 29 건\n",
            "매출 (‘20): 48 억원\n"
          ]
        }
      ],
      "source": [
        "import pandas as pd\n",
        "import re\n",
        "\n",
        "try:\n",
        "    from xml.etree.cElementTree import XML\n",
        "except ImportError:\n",
        "    from xml.etree.ElementTree import XML\n",
        "import zipfile\n",
        "\n",
        "NAMESPACE = '{http://schemas.openxmlformats.org/wordprocessingml/2006/main}'\n",
        "PARA = NAMESPACE + 'p'\n",
        "TEXT = NAMESPACE + 't'\n",
        "\n",
        "def get_docx_text(filename):\n",
        "    document = zipfile.ZipFile(filename)\n",
        "    xml_content = document.read('word/document.xml')\n",
        "    document.close()\n",
        "    tree = XML(xml_content)\n",
        "    paragraphs = []\n",
        "    for paragraph in tree.iter(PARA):\n",
        "        texts = [node.text\n",
        "                for node in paragraph.iter(TEXT)\n",
        "                if node.text]\n",
        "        if texts:\n",
        "            paragraphs.append(''.join(texts))\n",
        "    return '\\n\\n'.join(paragraphs)\n",
        "    \n",
        "def extract_text_to_dataframe(filename):\n",
        "    extracted_text = get_docx_text(filename)\n",
        "    paragraphs = extracted_text.split('\\n\\n')\n",
        "    table_data = []\n",
        "    for paragraph in paragraphs:\n",
        "        row_data = paragraph.split('\\n')\n",
        "        table_data.append(row_data)\n",
        "    df = pd.DataFrame(table_data)\n",
        "    return df\n",
        "\n",
        "def extract_location(df):\n",
        "    location = df[df.astype(str).apply(lambda x: x.str.contains('소재지', na=False)).any(axis=1)].iloc[:, 0]\n",
        "    location = location.str.extract(r'([가-힣\\s]+)').values.flatten()\n",
        "    location = [loc.strip() for loc in location if loc.strip() != '소재지']\n",
        "    location = ' '.join(location)\n",
        "    return location\n",
        "\n",
        "# 추출된 데이터 프레임 생성\n",
        "extracted_text = extract_text_to_dataframe('/content/drive/MyDrive/노동연구원/IR_KOR.docx')\n",
        "\n",
        "# 소재지 추출\n",
        "location = extract_location(extracted_text)\n",
        "\n",
        "# \"소재지\" 키워드 제거\n",
        "location = location.replace('소재지', '')\n",
        "location = location.replace('설립일', '')\n",
        "location = location.replace(' ', '')\n",
        "\n",
        "\n",
        "\n",
        "text = get_docx_text('/content/drive/MyDrive/노동연구원/IR_KOR.docx')\n",
        "\n",
        "\n",
        "# 대표자 (생년) 추출\n",
        "# 대표자 이름과 생년 추출\n",
        "founder_pattern = r\"대표자 \\(생년\\)\\s*(\\S+)\\s*\\((\\d{4})년\\)\"\n",
        "founder_match = re.search(founder_pattern, text)\n",
        "if founder_match:\n",
        "    founder_name = founder_match.group(1)\n",
        "    founder = founder_match.group(2)\n",
        "else:\n",
        "    founder_name = None\n",
        "    founder= None\n",
        "\n",
        "\n",
        "# 사업화 단계 추출\n",
        "business_stage = re.findall(r\"시리즈\\s*([A-Za-z]+)\", text)\n",
        "if business_stage:\n",
        "    business_stage = business_stage[0].strip()\n",
        "else:\n",
        "    business_stage = None\n",
        "\n",
        "\n",
        "# 후속투자 추출\n",
        "follow_up_investment = re.findall(r\"후속투자 ([\\d.]+)억원\", text)\n",
        "if follow_up_investment:\n",
        "    follow_up_investment = follow_up_investment[0]\n",
        "\n",
        "# 고용창출 (선정당시) 추출\n",
        "job_creation_initial = re.findall(r\"고용창출 \\(선정당시\\) (\\d+)명\", text)\n",
        "if job_creation_initial:\n",
        "    job_creation_initial = job_creation_initial[0]\n",
        "\n",
        "# 고용창출 (최신) 추출\n",
        "job_creation_latest_year= re.findall(r\"고용창출 \\(선정당시\\) \\d+명 -> \\('(\\d+)\\) \\d+명\", text)\n",
        "if job_creation_latest_year:\n",
        "    job_creation_latest_year = job_creation_latest_year[0]\n",
        "\n",
        "job_creation_latest = re.findall(r\"고용창출 \\(선정당시\\) \\d+명 -> \\('\\d+\\) (\\d+)명\", text)\n",
        "if job_creation_latest:\n",
        "    job_creation_latest = job_creation_latest[0]\n",
        "\n",
        "# 논문 및 특허 추출\n",
        "paper_patent_count = re.findall(r\"논문 및 특허 \\((\\w+)\\) (\\d+)건\", text)\n",
        "if paper_patent_count:\n",
        "    paper_count = paper_patent_count[0][1]\n",
        "\n",
        "# 매출 (‘20) 추출\n",
        "revenue_2020 = re.findall(r\"매출 \\(‘20\\) ([\\d.]+)억원\", text)\n",
        "if revenue_2020:\n",
        "    revenue_2020 = revenue_2020[0]\n",
        "\n",
        "# 추출한 정보 출력\n",
        "print(\"소재지:\", location)\n",
        "print(\"대표자 (생년):\", founder)\n",
        "print(\"사업화 단계:\", business_stage)\n",
        "print(\"후속투자:\", follow_up_investment)\n",
        "print(\"고용창출 (선정당시):\", job_creation_initial, \"명\")\n",
        "print(\"고용창출 (최신):\", job_creation_latest_year,'년',job_creation_latest, \"명\")\n",
        "print(\"논문 및 특허:\", paper_count, \"건\")\n",
        "print(\"매출 (‘20):\", revenue_2020, \"억원\")\n"
      ]
    },
    {
      "cell_type": "code",
      "source": [],
      "metadata": {
        "id": "xXZZpkdUwnAN"
      },
      "execution_count": null,
      "outputs": []
    }
  ]
}