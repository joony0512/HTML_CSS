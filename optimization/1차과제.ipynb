{
  "nbformat": 4,
  "nbformat_minor": 0,
  "metadata": {
    "colab": {
      "provenance": [],
      "collapsed_sections": [],
      "authorship_tag": "ABX9TyM45sZ6CMBglNAmmWVu4vJ+",
      "include_colab_link": true
    },
    "kernelspec": {
      "name": "python3",
      "display_name": "Python 3"
    },
    "language_info": {
      "name": "python"
    }
  },
  "cells": [
    {
      "cell_type": "markdown",
      "metadata": {
        "id": "view-in-github",
        "colab_type": "text"
      },
      "source": [
        "<a href=\"https://colab.research.google.com/github/joony0512/archive/blob/main/optimization/1%EC%B0%A8%EA%B3%BC%EC%A0%9C.ipynb\" target=\"_parent\"><img src=\"https://colab.research.google.com/assets/colab-badge.svg\" alt=\"Open In Colab\"/></a>"
      ]
    },
    {
      "cell_type": "code",
      "execution_count": null,
      "metadata": {
        "colab": {
          "base_uri": "https://localhost:8080/"
        },
        "id": "1oqbERtkny7X",
        "outputId": "fe38b223-1994-466f-dc34-272acf141333"
      },
      "outputs": [
        {
          "output_type": "stream",
          "name": "stdout",
          "text": [
            "2.4499999999999997\n"
          ]
        }
      ],
      "source": [
        "#1 \n",
        "_sum = 0\n",
        "for i in range(1,7):\n",
        "    _sum += 1/i\n",
        "print(_sum)\n"
      ]
    },
    {
      "cell_type": "code",
      "source": [
        "#2 \n",
        "import math\n",
        "\n",
        "a= lambda x, y, j, k : math.sqrt((x + y )*(j + k))\n",
        "a(4,3,2,5)\n"
      ],
      "metadata": {
        "colab": {
          "base_uri": "https://localhost:8080/"
        },
        "id": "OJb0XW5Mn61o",
        "outputId": "f6190230-2ef4-45c3-b776-13c9bfd71e9f"
      },
      "execution_count": null,
      "outputs": [
        {
          "output_type": "execute_result",
          "data": {
            "text/plain": [
              "7.0"
            ]
          },
          "metadata": {},
          "execution_count": 2
        }
      ]
    },
    {
      "cell_type": "code",
      "source": [
        "#3\n",
        "import math\n",
        "\n",
        "a = lambda x, y, j, k : math.pow(((x + y)/(j + k)),2)\n",
        "a(1,2,4,5)\n"
      ],
      "metadata": {
        "colab": {
          "base_uri": "https://localhost:8080/"
        },
        "id": "E0TjI8X1oCCj",
        "outputId": "95d2327a-de40-4782-a2b3-d0b248c610c5"
      },
      "execution_count": null,
      "outputs": [
        {
          "output_type": "execute_result",
          "data": {
            "text/plain": [
              "0.1111111111111111"
            ]
          },
          "metadata": {},
          "execution_count": 4
        }
      ]
    },
    {
      "cell_type": "code",
      "source": [
        "#4\n",
        "import math\n",
        "\n",
        "a= lambda x,y : (3* math.pow(x,2) + 2* math.pow(y,3))/((x+y)*(x-y))\n",
        "\n",
        "a = a(15, 4)\n",
        "a"
      ],
      "metadata": {
        "colab": {
          "base_uri": "https://localhost:8080/"
        },
        "id": "oJB6-HGsoIhx",
        "outputId": "69785b60-a14a-4e0c-9da1-6cc401e128b6"
      },
      "execution_count": null,
      "outputs": [
        {
          "output_type": "execute_result",
          "data": {
            "text/plain": [
              "3.8421052631578947"
            ]
          },
          "metadata": {},
          "execution_count": 5
        }
      ]
    },
    {
      "cell_type": "code",
      "source": [
        "#5\n",
        "import numpy as np\n",
        "x = np.array([2,3,5,7,9])\n",
        "\n",
        "x2 = np.array(x)**2\n",
        "print(x2)"
      ],
      "metadata": {
        "colab": {
          "base_uri": "https://localhost:8080/"
        },
        "id": "eHsKtACkoOZL",
        "outputId": "97eaa196-f263-4180-e1c2-562a2ffa0b8e"
      },
      "execution_count": null,
      "outputs": [
        {
          "output_type": "stream",
          "name": "stdout",
          "text": [
            "[ 4  9 25 49 81]\n"
          ]
        }
      ]
    },
    {
      "cell_type": "code",
      "source": [
        "#6\n",
        "import numpy as np\n",
        "x = np.array([2,3,5,7,9])\n",
        "x2 = (np.array(x)**2)\n",
        "_sum = 0\n",
        "for i in x2:\n",
        "    _sum += i\n",
        "    \n",
        "print(_sum)"
      ],
      "metadata": {
        "colab": {
          "base_uri": "https://localhost:8080/"
        },
        "id": "Mgyvu0VxoQY4",
        "outputId": "77e0c0fb-7adc-467f-f371-95d0a4d8078c"
      },
      "execution_count": null,
      "outputs": [
        {
          "output_type": "stream",
          "name": "stdout",
          "text": [
            "168\n"
          ]
        }
      ]
    },
    {
      "cell_type": "code",
      "source": [
        "#7\n",
        "import numpy as np\n",
        "x = np.array([2,3,5,7,9])\n",
        "\n",
        "_max = max(x)\n",
        "_min = min(x)\n",
        "_avg = sum(x)/len(x)\n",
        "\n",
        "print(_max)\n",
        "print(_min)\n",
        "print(_avg)"
      ],
      "metadata": {
        "colab": {
          "base_uri": "https://localhost:8080/"
        },
        "id": "B1vAKeVFoR4n",
        "outputId": "8104b222-8fb6-443c-fb84-eac381d0897a"
      },
      "execution_count": null,
      "outputs": [
        {
          "output_type": "stream",
          "name": "stdout",
          "text": [
            "9\n",
            "2\n",
            "5.2\n"
          ]
        }
      ]
    },
    {
      "cell_type": "code",
      "source": [
        "#8\n",
        "import numpy\n",
        "x = np.array([2,3,5,7,9])\n",
        "x_up = []\n",
        "for i in x:\n",
        "    if i > 5 :\n",
        "        x_up.append(i) \n",
        "x_up = np.array(x_up)\n",
        "print(x_up)\n"
      ],
      "metadata": {
        "colab": {
          "base_uri": "https://localhost:8080/"
        },
        "id": "aZUvi6BSoTrn",
        "outputId": "1160f59c-23f2-4b00-8b30-b401b62daebc"
      },
      "execution_count": null,
      "outputs": [
        {
          "output_type": "stream",
          "name": "stdout",
          "text": [
            "[7 9]\n"
          ]
        }
      ]
    },
    {
      "cell_type": "code",
      "source": [
        "#9\n",
        "import math\n",
        "x = np.array([2,3,5,7,9])\n",
        "x_ss= 0\n",
        "for i in x :\n",
        "    x_ss += i**2\n",
        "x_len = math.sqrt(x_ss)\n",
        "print(x_len)"
      ],
      "metadata": {
        "colab": {
          "base_uri": "https://localhost:8080/"
        },
        "id": "RhpArdcwoV2K",
        "outputId": "b19e1679-3e21-4704-e082-b1d497a568ee"
      },
      "execution_count": null,
      "outputs": [
        {
          "output_type": "stream",
          "name": "stdout",
          "text": [
            "12.96148139681572\n"
          ]
        }
      ]
    },
    {
      "cell_type": "code",
      "source": [
        "#10\n",
        "import numpy as np\n",
        "x = np.matrix([2,3,5,7,9])\n",
        "xT = np.transpose(x)\n",
        "print(x@xT)\n",
        "print(xT@x)\n"
      ],
      "metadata": {
        "colab": {
          "base_uri": "https://localhost:8080/"
        },
        "id": "dnaiHQ14oXoR",
        "outputId": "b65db1c6-a5b4-4488-b47a-bfff4dd0c14e"
      },
      "execution_count": null,
      "outputs": [
        {
          "output_type": "stream",
          "name": "stdout",
          "text": [
            "[[168]]\n",
            "[[ 4  6 10 14 18]\n",
            " [ 6  9 15 21 27]\n",
            " [10 15 25 35 45]\n",
            " [14 21 35 49 63]\n",
            " [18 27 45 63 81]]\n"
          ]
        }
      ]
    },
    {
      "cell_type": "code",
      "source": [],
      "metadata": {
        "id": "g0W7QOFQoZPK"
      },
      "execution_count": null,
      "outputs": []
    }
  ]
}